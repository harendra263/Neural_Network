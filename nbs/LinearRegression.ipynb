{
 "cells": [
  {
   "cell_type": "code",
   "execution_count": 28,
   "id": "0a81a95e",
   "metadata": {},
   "outputs": [],
   "source": [
    "import pandas as pd\n",
    "import numpy as np\n",
    "import matplotlib.pyplot as plt\n",
    "import seaborn as sns\n",
    "\n",
    "import torch\n",
    "import torch.nn as nn"
   ]
  },
  {
   "cell_type": "code",
   "execution_count": 5,
   "id": "c2389b65",
   "metadata": {},
   "outputs": [],
   "source": [
    "n = 50\n",
    "x = np.random.randn(n)\n",
    "y = x * np.random.randn(n)\n",
    "\n",
    "colors = np.random.randn(n)"
   ]
  },
  {
   "cell_type": "code",
   "execution_count": 8,
   "id": "c1d58368",
   "metadata": {},
   "outputs": [
    {
     "data": {
      "image/png": "[encoded data removed]",
      "text/plain": [
       "<Figure size 432x288 with 1 Axes>"
      ]
     },
     "metadata": {
      "needs_background": "light"
     },
     "output_type": "display_data"
    }
   ],
   "source": [
    "plt.plot(np.unique(x), np.poly1d(np.polyfit(x, y, 1))(np.unique(x)))\n",
    "\n",
    "plt.scatter(x, y, c= colors, alpha=0.5)\n",
    "plt.show()"
   ]
  },
  {
   "cell_type": "code",
   "execution_count": 24,
   "id": "7bb1e967",
   "metadata": {},
   "outputs": [
    {
     "data": {
      "text/plain": [
       "(11, 1)"
      ]
     },
     "execution_count": 24,
     "metadata": {},
     "output_type": "execute_result"
    }
   ],
   "source": [
    "x_values= list(range(11))\n",
    "x_train = np.array(x_values, dtype= np.float32)\n",
    "x_train = x_train.reshape(-1, 1)\n",
    "x_train.shape"
   ]
  },
  {
   "cell_type": "markdown",
   "id": "2c23309d",
   "metadata": {},
   "source": [
    "### y = 2x + 1"
   ]
  },
  {
   "cell_type": "code",
   "execution_count": 25,
   "id": "11c60646",
   "metadata": {},
   "outputs": [
    {
     "data": {
      "text/plain": [
       "(11, 1)"
      ]
     },
     "execution_count": 25,
     "metadata": {},
     "output_type": "execute_result"
    }
   ],
   "source": [
    "y_train = np.array([2 * i for i in x_values], dtype= np.float32)\n",
    "y_train = y_train.reshape(-1, 1)\n",
    "y_train.shape"
   ]
  },
  {
   "cell_type": "code",
   "execution_count": 29,
   "id": "234b3b32",
   "metadata": {},
   "outputs": [
    {
     "name": "stdout",
     "output_type": "stream",
     "text": [
      "epoch 1, loss 169.5240478515625\n",
      "epoch 2, loss 13.836087226867676\n",
      "epoch 3, loss 1.1370205879211426\n",
      "epoch 4, loss 0.10110335052013397\n",
      "epoch 5, loss 0.016513381153345108\n",
      "epoch 6, loss 0.009521296247839928\n",
      "epoch 7, loss 0.008859739638864994\n",
      "epoch 8, loss 0.008715497329831123\n",
      "epoch 9, loss 0.008614437654614449\n",
      "epoch 10, loss 0.00851796567440033\n",
      "epoch 11, loss 0.008422795683145523\n",
      "epoch 12, loss 0.008328774012625217\n",
      "epoch 13, loss 0.008235756307840347\n",
      "epoch 14, loss 0.008143778890371323\n",
      "epoch 15, loss 0.008052856661379337\n",
      "epoch 16, loss 0.007962936535477638\n",
      "epoch 17, loss 0.007874023169279099\n",
      "epoch 18, loss 0.007786066737025976\n",
      "epoch 19, loss 0.007699113804847002\n",
      "epoch 20, loss 0.007613149471580982\n",
      "epoch 21, loss 0.007528115529567003\n",
      "epoch 22, loss 0.007444089278578758\n",
      "epoch 23, loss 0.007360939402133226\n",
      "epoch 24, loss 0.007278747390955687\n",
      "epoch 25, loss 0.007197439670562744\n",
      "epoch 26, loss 0.007117079570889473\n",
      "epoch 27, loss 0.007037600968033075\n",
      "epoch 28, loss 0.006959037855267525\n",
      "epoch 29, loss 0.006881313398480415\n",
      "epoch 30, loss 0.0068044643849134445\n",
      "epoch 31, loss 0.006728511769324541\n",
      "epoch 32, loss 0.0066533503122627735\n",
      "epoch 33, loss 0.006579065695405006\n",
      "epoch 34, loss 0.0065056090243160725\n",
      "epoch 35, loss 0.006432908587157726\n",
      "epoch 36, loss 0.006361113861203194\n",
      "epoch 37, loss 0.006290078163146973\n",
      "epoch 38, loss 0.006219809874892235\n",
      "epoch 39, loss 0.006150373723357916\n",
      "epoch 40, loss 0.006081691477447748\n",
      "epoch 41, loss 0.0060137612745165825\n",
      "epoch 42, loss 0.005946613382548094\n",
      "epoch 43, loss 0.005880243610590696\n",
      "epoch 44, loss 0.005814577918499708\n",
      "epoch 45, loss 0.005749644245952368\n",
      "epoch 46, loss 0.005685432348400354\n",
      "epoch 47, loss 0.005621929187327623\n",
      "epoch 48, loss 0.005559149663895369\n",
      "epoch 49, loss 0.005497086327522993\n",
      "epoch 50, loss 0.0054356735199689865\n",
      "epoch 51, loss 0.005374985281378031\n",
      "epoch 52, loss 0.005314977839589119\n",
      "epoch 53, loss 0.005255614407360554\n",
      "epoch 54, loss 0.005196920596063137\n",
      "epoch 55, loss 0.005138895940035582\n",
      "epoch 56, loss 0.005081519950181246\n",
      "epoch 57, loss 0.0050247665494680405\n",
      "epoch 58, loss 0.004968659952282906\n",
      "epoch 59, loss 0.004913188982754946\n",
      "epoch 60, loss 0.0048583270981907845\n",
      "epoch 61, loss 0.0048040542751550674\n",
      "epoch 62, loss 0.0047504170797765255\n",
      "epoch 63, loss 0.004697359167039394\n",
      "epoch 64, loss 0.004644912667572498\n",
      "epoch 65, loss 0.0045930310152471066\n",
      "epoch 66, loss 0.004541750997304916\n",
      "epoch 67, loss 0.004491013009101152\n",
      "epoch 68, loss 0.00444085942581296\n",
      "epoch 69, loss 0.0043912786059081554\n",
      "epoch 70, loss 0.004342242609709501\n",
      "epoch 71, loss 0.004293766338378191\n",
      "epoch 72, loss 0.0042458344250917435\n",
      "epoch 73, loss 0.004198416601866484\n",
      "epoch 74, loss 0.004151526372879744\n",
      "epoch 75, loss 0.004105157684534788\n",
      "epoch 76, loss 0.004059309139847755\n",
      "epoch 77, loss 0.004013984929770231\n",
      "epoch 78, loss 0.00396917387843132\n",
      "epoch 79, loss 0.003924833610653877\n",
      "epoch 80, loss 0.003881016280502081\n",
      "epoch 81, loss 0.003837675554677844\n",
      "epoch 82, loss 0.0037948093377053738\n",
      "epoch 83, loss 0.0037524655926972628\n",
      "epoch 84, loss 0.003710551420226693\n",
      "epoch 85, loss 0.0036690933629870415\n",
      "epoch 86, loss 0.003628145670518279\n",
      "epoch 87, loss 0.003587621496990323\n",
      "epoch 88, loss 0.0035475583281368017\n",
      "epoch 89, loss 0.0035079517401754856\n",
      "epoch 90, loss 0.003468769136816263\n",
      "epoch 91, loss 0.003430035198107362\n",
      "epoch 92, loss 0.0033917254768311977\n",
      "epoch 93, loss 0.0033538653515279293\n",
      "epoch 94, loss 0.003316412912681699\n",
      "epoch 95, loss 0.003279377007856965\n",
      "epoch 96, loss 0.003242755075916648\n",
      "epoch 97, loss 0.0032065226696431637\n",
      "epoch 98, loss 0.003170727053657174\n",
      "epoch 99, loss 0.0031353405211120844\n",
      "epoch 100, loss 0.003100310219451785\n"
     ]
    }
   ],
   "source": [
    "class LinearRegression(nn.Module):\n",
    "    def __init__(self, input_dim, output_dim):\n",
    "        super(LinearRegression, self).__init__()\n",
    "        self.linear = nn.Linear(input_dim, output_dim)\n",
    "    \n",
    "    def forward(self, x):\n",
    "        return self.linear(x)\n",
    "\n",
    "input_dim = 1\n",
    "output_dim = 1\n",
    "\n",
    "model = LinearRegression(input_dim, output_dim)\n",
    "\n",
    "criterion = nn.MSELoss()\n",
    "\n",
    "learning_rate = 0.01\n",
    "optimizer = torch.optim.SGD(model.parameters(), lr= learning_rate)\n",
    "\n",
    "epochs= 100\n",
    "\n",
    "for epoch in range(epochs):\n",
    "    epoch += 1\n",
    "    \n",
    "    # Convert the numpy array to torch tensor\n",
    "    inputs = torch.from_numpy(x_train).requires_grad_()\n",
    "    labels = torch.from_numpy(y_train)\n",
    "\n",
    "    # Clear gradients w.r.t parameters\n",
    "    optimizer.zero_grad()\n",
    "\n",
    "    # Forward to get output\n",
    "    outputs = model(inputs)\n",
    "\n",
    "    # Calculate loss\n",
    "    loss = criterion(outputs, labels)\n",
    "\n",
    "    # getting gradients w.r.t parameters\n",
    "    loss.backward()\n",
    "\n",
    "    # Updating parameters\n",
    "    optimizer.step()\n",
    "\n",
    "    print(f'epoch {epoch}, loss {loss.item()}')\n",
    "\n",
    "    \n",
    "# Looking at the predicted values\n",
    "predicted = model(torch.from_numpy(x_train).requires_grad_()).data.numpy()\n",
    "print(predicted)\n",
    "print(y_train)\n",
    "\n",
    "# Clear figure\n",
    "plt.clf()\n",
    "\n",
    "# plot true data\n",
    "plt.plot(x_train, y_train, 'go', label='True Data', alpha=0.5)\n",
    "\n",
    "plt.plot(x_train, predicted, '--', label='Predictions', alpha =0.5)\n",
    "\n",
    "plt.legend(loc='best')\n",
    "plt.show()"
   ]
  },
  {
   "cell_type": "code",
   "execution_count": null,
   "id": "c6dfdbe9",
   "metadata": {},
   "outputs": [],
   "source": []
  }
 ],
 "metadata": {
  "kernelspec": {
   "display_name": "Python 3 (ipykernel)",
   "language": "python",
   "name": "python3"
  },
  "language_info": {
   "codemirror_mode": {
    "name": "ipython",
    "version": 3
   },
   "file_extension": ".py",
   "mimetype": "text/x-python",
   "name": "python",
   "nbconvert_exporter": "python",
   "pygments_lexer": "ipython3",
   "version": "3.10.2"
  }
 },
 "nbformat": 4,
 "nbformat_minor": 5
}
